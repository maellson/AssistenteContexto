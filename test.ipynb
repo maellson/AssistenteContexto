{
 "cells": [
  {
   "cell_type": "code",
   "execution_count": 1,
   "metadata": {},
   "outputs": [],
   "source": [
    "from pathlib import Path\n",
    "import streamlit as st\n",
    "from langchain.chains.conversational_retrieval.base import ConversationalRetrievalChain  \n",
    "from langchain_community.document_loaders.pdf import PyPDFLoader\n",
    "from langchain_community.vectorstores.faiss import FAISS\n",
    "from langchain.memory import ConversationBufferMemory\n",
    "from langchain_text_splitters import RecursiveCharacterTextSplitter\n",
    "from langchain_openai.embeddings import OpenAIEmbeddings\n",
    "from langchain_openai.chat_models import ChatOpenAI\n",
    "import time\n",
    "\n",
    "# Definindo o caminho para os arquivos usando a lib PathLib que serve para manipulação de arquivos e diretorios\n",
    "FILES_PATH = Path('/Users/maelsonmarquesdelima/Library/CloudStorage/OneDrive-Pessoal/Documentos/ESTUDAR/DATA_SCIENCE_PYTHON/AssistenteContexto/test.ipynb').parent / \"files\"\n",
    "MODEL_NAME = 'gpt-3.5-turbo-0125'\n",
    "\n",
    "def import_documents():\n",
    "    documents = []\n",
    "    for arquivo in FILES_PATH.glob(\"*.pdf\"):\n",
    "        loader = PyPDFLoader(str(arquivo)) #traz o caminho do arquivo\n",
    "        documents_loader = loader.load()\n",
    "        documents.extend(documents_loader)\n",
    "    return documents\n",
    "\n",
    "def split_documents(documents):\n",
    "    recur_spliter = RecursiveCharacterTextSplitter(\n",
    "        chunk_size=2500,\n",
    "        chunk_overlap=250,\n",
    "        separators= [\"\\n\\n\", \"\\n\", \".\", \"!\", \"?\", \";\", \":\", \"\\t\"]\n",
    "    )\n",
    "    documents = recur_spliter.split_documents(documents)\n",
    "\n",
    "    for i, doc in enumerate(documents): # interador que faz \n",
    "        doc.metadata['source'] = doc.metadata['source'].split(\"/\")[-1]#\n",
    "        doc.metadata['doc_id'] = i\n",
    "    return documents\n",
    "\n",
    "def create_vector_store(documents):\n",
    "    embedding_model = OpenAIEmbeddings()\n",
    "    vector_store = FAISS.from_documents(\n",
    "        documents = documents,\n",
    "        embedding = embedding_model,\n",
    "    )\n",
    "    return vector_store\n",
    "\n",
    "def criar_chain_conversa(vector_store):\n",
    "    chat = ChatOpenAI(model=MODEL_NAME)\n",
    "    memory = ConversationBufferMemory(\n",
    "        return_messages=True,\n",
    "        memory_key='chat_history',\n",
    "        output_key='answer',\n",
    "    )\n",
    "    retriever = vector_store.as_retriever()\n",
    "    chat_chain = ConversationalRetrievalChain.from_llm(\n",
    "        llm=chat,\n",
    "        memory=memory,\n",
    "        retriever=retriever,\n",
    "        return_source_documents=True,\n",
    "        verbose=True\n",
    "    )\n",
    "    return chat_chain\n"
   ]
  },
  {
   "cell_type": "code",
   "execution_count": 2,
   "metadata": {},
   "outputs": [
    {
     "name": "stderr",
     "output_type": "stream",
     "text": [
      "Ignoring wrong pointing object 6 0 (offset 0)\n",
      "Ignoring wrong pointing object 8 0 (offset 0)\n",
      "Ignoring wrong pointing object 10 0 (offset 0)\n",
      "Ignoring wrong pointing object 12 0 (offset 0)\n",
      "Ignoring wrong pointing object 14 0 (offset 0)\n",
      "Ignoring wrong pointing object 17 0 (offset 0)\n",
      "Ignoring wrong pointing object 28 0 (offset 0)\n",
      "/var/folders/xb/g2pjwx_s2pn093t44p9_dgqm0000gn/T/ipykernel_97953/2150047210.py:47: LangChainDeprecationWarning: Please see the migration guide at: https://python.langchain.com/docs/versions/migrating_memory/\n",
      "  memory = ConversationBufferMemory(\n"
     ]
    }
   ],
   "source": [
    "\n",
    "documents = import_documents()\n",
    "documents = split_documents(documents)\n",
    "vector_store = create_vector_store(documents)\n",
    "chain = criar_chain_conversa(vector_store)\n"
   ]
  },
  {
   "cell_type": "code",
   "execution_count": null,
   "metadata": {},
   "outputs": [],
   "source": [
    "chain.invoke({'question': 'Qual a importância da análise de dados?'})\n"
   ]
  }
 ],
 "metadata": {
  "kernelspec": {
   "display_name": "devPy",
   "language": "python",
   "name": "python3"
  },
  "language_info": {
   "codemirror_mode": {
    "name": "ipython",
    "version": 3
   },
   "file_extension": ".py",
   "mimetype": "text/x-python",
   "name": "python",
   "nbconvert_exporter": "python",
   "pygments_lexer": "ipython3",
   "version": "3.11.8"
  }
 },
 "nbformat": 4,
 "nbformat_minor": 2
}
